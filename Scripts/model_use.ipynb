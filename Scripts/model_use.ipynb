{
 "cells": [
  {
   "cell_type": "markdown",
   "id": "8b2bc21b",
   "metadata": {},
   "source": [
    "# Imports"
   ]
  },
  {
   "cell_type": "code",
   "execution_count": 15,
   "id": "e73e6fe7",
   "metadata": {},
   "outputs": [],
   "source": [
    "import os\n",
    "import json\n",
    "import torch\n",
    "import warnings\n",
    "import torch.nn as nn\n",
    "\n",
    "from collections import Counter"
   ]
  },
  {
   "cell_type": "markdown",
   "id": "746930e6",
   "metadata": {},
   "source": [
    "# Settings"
   ]
  },
  {
   "cell_type": "code",
   "execution_count": 16,
   "id": "e366e61d",
   "metadata": {},
   "outputs": [],
   "source": [
    "MODELS_DIR = \"../Models\"\n",
    "DATA_PATH = \"../Data/shakespeare.txt\"\n",
    "DEVICE = torch.device(\"cuda\" if torch.cuda.is_available() else \"cpu\")"
   ]
  },
  {
   "cell_type": "markdown",
   "id": "9bd6c8ff",
   "metadata": {},
   "source": [
    "# Model Definition"
   ]
  },
  {
   "cell_type": "code",
   "execution_count": 17,
   "id": "1b15ec0e",
   "metadata": {},
   "outputs": [],
   "source": [
    "class SimpleTransformer(nn.Module):\n",
    "\n",
    "    def __init__(self, vocab_size, embed_dim, num_heads, hidden_dim, num_layers, seq_len):\n",
    "\n",
    "        super(SimpleTransformer, self).__init__()\n",
    "\n",
    "        self.embedding = nn.Embedding(vocab_size, embed_dim)\n",
    "        self.position_embedding = nn.Embedding(seq_len, embed_dim)\n",
    "\n",
    "        self.transformer_blocks = nn.ModuleList([\n",
    "            nn.TransformerEncoderLayer(\n",
    "                d_model=embed_dim, nhead=num_heads, dim_feedforward=hidden_dim)\n",
    "                    for _ in range(num_layers)])\n",
    "\n",
    "        self.fc = nn.Linear(embed_dim, vocab_size)\n",
    "\n",
    "    def forward(self, x):\n",
    "        \n",
    "        positions = torch.arange(0, x.size(1), device=x.device).unsqueeze(0)\n",
    "        x = self.embedding(x) + self.position_embedding(positions)\n",
    "\n",
    "        for block in self.transformer_blocks:\n",
    "            x = block(x)\n",
    "\n",
    "        return self.fc(x)"
   ]
  },
  {
   "cell_type": "markdown",
   "id": "d42cb2d1",
   "metadata": {},
   "source": [
    "# Vocabulary Building"
   ]
  },
  {
   "cell_type": "code",
   "execution_count": 18,
   "id": "38e5ae50",
   "metadata": {},
   "outputs": [],
   "source": [
    "def build_vocab(file_path, vocab_size):\n",
    "\n",
    "    tokenizer = lambda text: text.split()\n",
    "    counter = Counter()\n",
    "\n",
    "    with open(file_path, 'r', encoding='utf-8') as f:\n",
    "        counter.update(tokenizer(f.read()))\n",
    "\n",
    "    vocab = {word: i for i, (word, _) in enumerate(counter.most_common(vocab_size))}\n",
    "    \n",
    "    return vocab\n",
    "\n",
    "def tokenize(text, word_to_id):\n",
    "    return [word_to_id.get(word, 0) for word in text.split()]\n",
    "\n",
    "def detokenize(tokens, id_to_word):\n",
    "    return ' '.join([id_to_word.get(token, \"<unk>\") for token in tokens])"
   ]
  },
  {
   "cell_type": "markdown",
   "id": "f92769e4",
   "metadata": {},
   "source": [
    "# Generate Function"
   ]
  },
  {
   "cell_type": "code",
   "execution_count": 19,
   "id": "11f79971",
   "metadata": {},
   "outputs": [],
   "source": [
    "def generate(model, prompt, word_to_id, id_to_word, seq_len, max_length=50, temperature=1.0, top_k=10):\n",
    "\n",
    "    model.eval()\n",
    "    input_ids = tokenize(prompt, word_to_id)[-seq_len:]\n",
    "    input_tensor = torch.tensor(input_ids, device=DEVICE).unsqueeze(0)\n",
    "\n",
    "    for _ in range(max_length):\n",
    "        with torch.no_grad():\n",
    "\n",
    "            output = model(input_tensor)\n",
    "            logits = output[:, -1, :] / temperature\n",
    "\n",
    "            top_k_vals, top_k_idxs = torch.topk(logits, top_k)\n",
    "            probs = torch.softmax(top_k_vals, dim=-1)\n",
    "\n",
    "            next_token = top_k_idxs[0, torch.multinomial(probs, 1).item()].unsqueeze(0)\n",
    "\n",
    "        input_tensor = torch.cat([input_tensor, next_token.unsqueeze(0)], dim=1)\n",
    "        input_tensor = input_tensor[:, -seq_len:]\n",
    "\n",
    "    generated_ids = input_tensor[0].tolist()\n",
    "    \n",
    "    return detokenize(generated_ids, id_to_word)"
   ]
  },
  {
   "cell_type": "markdown",
   "id": "62bd3d59",
   "metadata": {},
   "source": [
    "# Load Model and Settings"
   ]
  },
  {
   "cell_type": "code",
   "execution_count": 20,
   "id": "75086890",
   "metadata": {},
   "outputs": [
    {
     "name": "stdout",
     "output_type": "stream",
     "text": [
      "Available Models:\n",
      "1. shakespeare_LLM_20250417-110810.pth\n",
      "2. shakespeare_LLM_20250417-123315.pth\n",
      "\n",
      "You are now speaking with Shakespeare.\n",
      "Type 'quit' to exit.\n",
      "\n"
     ]
    }
   ],
   "source": [
    "def select_model():\n",
    "\n",
    "    model_files = [f for f in os.listdir(MODELS_DIR) if f.endswith(\".pth\")]\n",
    "\n",
    "    if not model_files:\n",
    "        raise FileNotFoundError(\"No .pth model files found in ../Models folder.\")\n",
    "\n",
    "    print(\"Available Models:\")\n",
    "\n",
    "    for i, f in enumerate(model_files):\n",
    "        print(f\"{i + 1}. {f}\")\n",
    "    \n",
    "    while True:\n",
    "        try:\n",
    "\n",
    "            choice = int(input(\"\\nChoose a model number: \"))\n",
    "\n",
    "            if 1 <= choice <= len(model_files):\n",
    "\n",
    "                model_file = model_files[choice - 1]\n",
    "                settings_file = model_file.replace(\".pth\", \"_settings.json\")\n",
    "\n",
    "                model_path = os.path.join(MODELS_DIR, model_file)\n",
    "                settings_path = os.path.join(MODELS_DIR, settings_file)\n",
    "\n",
    "                if not os.path.exists(settings_path):\n",
    "                    raise FileNotFoundError(f\"Missing settings file: {settings_file}\")\n",
    "                \n",
    "                return model_path, settings_path\n",
    "            \n",
    "            else:\n",
    "                print(\"Invalid choice.\")\n",
    "\n",
    "        except ValueError:\n",
    "            print(\"Enter a number.\")\n",
    "\n",
    "model_path, settings_path = select_model()\n",
    "\n",
    "with open(settings_path, \"r\") as f:\n",
    "    settings = json.load(f)\n",
    "\n",
    "VOCAB_SIZE = settings[\"VOCAB_SIZE\"]\n",
    "SEQ_LEN = settings[\"SEQ_LEN\"]\n",
    "\n",
    "vocab = build_vocab(DATA_PATH, VOCAB_SIZE)\n",
    "word_to_id = vocab\n",
    "\n",
    "id_to_word = {i: w for w, i in vocab.items()}\n",
    "\n",
    "model = SimpleTransformer(\n",
    "\n",
    "    vocab_size=settings[\"VOCAB_SIZE\"],\n",
    "    embed_dim=settings[\"EMBED_DIM\"],\n",
    "    num_heads=settings[\"NUM_HEADS\"],\n",
    "\n",
    "    hidden_dim=settings[\"HIDDEN_DIM\"],\n",
    "    num_layers=settings[\"NUM_LAYERS\"],\n",
    "\n",
    "    seq_len=settings[\"SEQ_LEN\"]).to(DEVICE)\n",
    "\n",
    "model.load_state_dict(torch.load(model_path, map_location=DEVICE, weights_only=True))\n",
    "model.eval()\n",
    "\n",
    "print(\"\\nYou are now speaking with Shakespeare.\\nType 'quit' to exit.\\n\")"
   ]
  },
  {
   "cell_type": "markdown",
   "id": "bb0d6a3a",
   "metadata": {},
   "source": [
    "# Interact with the LLM"
   ]
  },
  {
   "cell_type": "code",
   "execution_count": null,
   "id": "e1a9575e",
   "metadata": {},
   "outputs": [
    {
     "name": "stdout",
     "output_type": "stream",
     "text": [
      "Shakespeare: build wi’ his climbing high. and I had I will level to her stoop I will passed. I have my dug for methought you to my good lieutenant, enemies, and let your service. Bourbon, play at his amorous Soft, trim\n",
      "Shakespeare: and all my good as you shall be my acquittance follows. BERTRAM. I have my quits to thy tide of your discontent? But I have strew’d clouds that he would you do not sleep. The word’s influence of your having.\n"
     ]
    }
   ],
   "source": [
    "while True:\n",
    "\n",
    "    user_input = input(\"You: \")\n",
    "\n",
    "    if user_input.lower() == 'quit':\n",
    "\n",
    "        print(\"\\nFarewell, gentle soul.\")\n",
    "        break\n",
    "\n",
    "    prompt = user_input\n",
    "    response = generate(model, prompt, word_to_id, id_to_word, seq_len=SEQ_LEN, max_length=40, temperature=0.8)\n",
    "\n",
    "    print(\"Shakespeare:\", response[len(prompt):].strip())"
   ]
  }
 ],
 "metadata": {
  "kernelspec": {
   "display_name": "Python 3",
   "language": "python",
   "name": "python3"
  },
  "language_info": {
   "codemirror_mode": {
    "name": "ipython",
    "version": 3
   },
   "file_extension": ".py",
   "mimetype": "text/x-python",
   "name": "python",
   "nbconvert_exporter": "python",
   "pygments_lexer": "ipython3",
   "version": "3.10.11"
  }
 },
 "nbformat": 4,
 "nbformat_minor": 5
}
